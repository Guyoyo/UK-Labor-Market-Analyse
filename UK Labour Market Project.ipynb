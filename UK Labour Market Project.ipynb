{
 "cells": [
  {
   "cell_type": "code",
   "execution_count": 1,
   "id": "c1caf465",
   "metadata": {},
   "outputs": [],
   "source": [
    "from warnings import filterwarnings\n",
    "filterwarnings(action=\"ignore\")\n",
    "\n",
    "import os\n",
    "import numpy as np\n",
    "import pandas as pd\n",
    "from tqdm import tqdm\n",
    "\n",
    "from sklearn.ensemble import RandomForestClassifier\n",
    "\n",
    "pd.set_option(\"display.max_column\", None)\n",
    "\n",
    "import seaborn as sns\n",
    "import matplotlib.pyplot as plt\n",
    "%matplotlib inline\n",
    "plt.style.use(\"ggplot\")"
   ]
  },
  {
   "cell_type": "code",
   "execution_count": 2,
   "id": "501adeec",
   "metadata": {},
   "outputs": [],
   "source": [
    "def LoadDF():\n",
    "    df = []\n",
    "    for i in os.listdir(os.getcwd()):\n",
    "        if i.endswith(\".csv\"):\n",
    "            df.append(pd.read_csv(i))\n",
    "    return pd.concat(df, axis=\"rows\")"
   ]
  },
  {
   "cell_type": "code",
   "execution_count": 3,
   "id": "3685a01d",
   "metadata": {},
   "outputs": [],
   "source": [
    "total_df = LoadDF()"
   ]
  },
  {
   "cell_type": "code",
   "execution_count": null,
   "id": "04e28948",
   "metadata": {},
   "outputs": [],
   "source": []
  }
 ],
 "metadata": {
  "kernelspec": {
   "display_name": "Python 3 (ipykernel)",
   "language": "python",
   "name": "python3"
  },
  "language_info": {
   "codemirror_mode": {
    "name": "ipython",
    "version": 3
   },
   "file_extension": ".py",
   "mimetype": "text/x-python",
   "name": "python",
   "nbconvert_exporter": "python",
   "pygments_lexer": "ipython3",
   "version": "3.9.12"
  }
 },
 "nbformat": 4,
 "nbformat_minor": 5
}
